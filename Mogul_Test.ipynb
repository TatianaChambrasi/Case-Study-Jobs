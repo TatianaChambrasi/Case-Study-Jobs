{
  "nbformat": 4,
  "nbformat_minor": 0,
  "metadata": {
    "colab": {
      "name": "Mogul Test.ipynb",
      "provenance": [],
      "authorship_tag": "ABX9TyPFQgtElgQ0SiKN7ole+hDW",
      "include_colab_link": true
    },
    "kernelspec": {
      "name": "python3",
      "display_name": "Python 3"
    },
    "language_info": {
      "name": "python"
    }
  },
  "cells": [
    {
      "cell_type": "markdown",
      "metadata": {
        "id": "view-in-github",
        "colab_type": "text"
      },
      "source": [
        "<a href=\"https://colab.research.google.com/github/TatianaChambrasi/Case-Study-Stout/blob/main/Mogul_Test.ipynb\" target=\"_parent\"><img src=\"https://colab.research.google.com/assets/colab-badge.svg\" alt=\"Open In Colab\"/></a>"
      ]
    },
    {
      "cell_type": "code",
      "metadata": {
        "colab": {
          "base_uri": "https://localhost:8080/"
        },
        "id": "u_f8MFxIfqYk",
        "outputId": "9192e12a-ede7-40f7-e232-d9757d211c8a"
      },
      "source": [
        "import pandas as pd\n",
        "import numpy as np\n",
        "import seaborn as sns\n",
        "import matplotlib.pyplot as plt\n",
        "%matplotlib \n"
      ],
      "execution_count": 35,
      "outputs": [
        {
          "output_type": "stream",
          "name": "stdout",
          "text": [
            "Using matplotlib backend: agg\n"
          ]
        }
      ]
    },
    {
      "cell_type": "code",
      "metadata": {
        "id": "bEQhLAeozqtv"
      },
      "source": [
        "import pip"
      ],
      "execution_count": 40,
      "outputs": []
    },
    {
      "cell_type": "code",
      "metadata": {
        "colab": {
          "base_uri": "https://localhost:8080/"
        },
        "id": "y6qdddgGzxEX",
        "outputId": "f63f31e4-8759-4faf-f701-c59835e43a7a"
      },
      "source": [
        "!pip install pyspellchecker\n",
        "from spellchecker import spellchecker"
      ],
      "execution_count": 59,
      "outputs": [
        {
          "output_type": "stream",
          "name": "stdout",
          "text": [
            "Requirement already satisfied: pyspellchecker in /usr/local/lib/python3.7/dist-packages (0.6.2)\n"
          ]
        }
      ]
    },
    {
      "cell_type": "code",
      "metadata": {
        "id": "Rld4hYO11AMp"
      },
      "source": [
        "from spellchecker import SpellChecker"
      ],
      "execution_count": 63,
      "outputs": []
    },
    {
      "cell_type": "code",
      "metadata": {
        "id": "gEc75kDPjCfy"
      },
      "source": [
        "#Upload files via google colab (not a typical import process for Python)\n",
        "from google.colab import files\n",
        "files.upload()"
      ],
      "execution_count": null,
      "outputs": []
    },
    {
      "cell_type": "code",
      "metadata": {
        "colab": {
          "base_uri": "https://localhost:8080/"
        },
        "id": "pVFibTbngCeK",
        "outputId": "d479fa61-a7bb-48f0-cda9-0999639111ec"
      },
      "source": [
        "df = pd.read_csv(\"Denver Hotel Info (1).csv\")\n",
        "print(df)"
      ],
      "execution_count": 199,
      "outputs": [
        {
          "output_type": "stream",
          "name": "stdout",
          "text": [
            "                                            Hotel Name  ...  Rate\n",
            "0                           11th Avenue Hotel & Hostel  ...   $40\n",
            "1                                          A & D Motel  ...   $33\n",
            "2                AC Hotels by Marriott Denver Downtown  ...  $226\n",
            "3                           Affordable Inn Wheat Ridge  ...   $40\n",
            "4                                        All Inn Motel  ...   $27\n",
            "..                                                 ...  ...   ...\n",
            "375                    WoodSpring Suites Denver Aurora  ...   $22\n",
            "376                WoodSpring Suites Denver Centennial  ...   $24\n",
            "377  Woolley's Classic Suites Denver International ...  ...   $66\n",
            "378                                       Wright Motel  ...   $57\n",
            "379                     Wyndham Origin Hotel Red Rocks  ...  $209\n",
            "\n",
            "[380 rows x 14 columns]\n"
          ]
        }
      ]
    },
    {
      "cell_type": "code",
      "metadata": {
        "colab": {
          "base_uri": "https://localhost:8080/"
        },
        "id": "VqShElfhiDYf",
        "outputId": "f57e05de-75b2-4948-bf92-dbddf1d1cc4f"
      },
      "source": [
        "df2 = pd.read_csv(\"Denver Hotel Performance.csv\")\n",
        "print(df2)"
      ],
      "execution_count": 200,
      "outputs": [
        {
          "output_type": "stream",
          "name": "stdout",
          "text": [
            "                                  Name  ... Overall Score\n",
            "0                        A Bar D Motel  ...            63\n",
            "1             AC Hotel Denver Downtown  ...            87\n",
            "2                       Ahwahnee Motel  ...            75\n",
            "3                         Airway Motel  ...            48\n",
            "4                Aloft Denver Downtown  ...            83\n",
            "..                                 ...  ...           ...\n",
            "327                   White Swan Motel  ...            57\n",
            "328  Wingate by Wyndham Denver Airport  ...            88\n",
            "329                   Wolf’S Motor Inn  ...            53\n",
            "330    WoodSpring Suites Denver Aurora  ...            58\n",
            "331            Woolleys Classic Suites  ...            93\n",
            "\n",
            "[332 rows x 8 columns]\n"
          ]
        }
      ]
    },
    {
      "cell_type": "code",
      "metadata": {
        "colab": {
          "base_uri": "https://localhost:8080/"
        },
        "id": "k9mW17rNl6Vn",
        "outputId": "2b1185af-4813-4617-c8b7-5e824b96dfb5"
      },
      "source": [
        "cat_df = df.select_dtypes(include=['object'])\n",
        "num_df = df.select_dtypes(exclude=['object'])\n",
        "\n",
        "def printColumnTypes(non_numeric_df, numeric_df):\n",
        "    '''separates non-numeric and numeric columns'''\n",
        "    print(\"Non-Numeric columns:\")\n",
        "    for col in non_numeric_df:\n",
        "        print(f\"{col}\")\n",
        "    print(\"\")\n",
        "    print(\"Numeric columns:\")\n",
        "    for col in numeric_df:\n",
        "        print(f\"{col}\")\n",
        "        \n",
        "printColumnTypes(cat_df, num_df)"
      ],
      "execution_count": 202,
      "outputs": [
        {
          "output_type": "stream",
          "name": "stdout",
          "text": [
            "Non-Numeric columns:\n",
            "Hotel Name\n",
            "Brand Name\n",
            "City\n",
            "State\n",
            "Country\n",
            "Class Type\n",
            "Location Type\n",
            "Price Type\n",
            "Restaurant (Y/N)\n",
            "Conference (Y/N)\n",
            "Spa (Y/N)\n",
            "Rate\n",
            "\n",
            "Numeric columns:\n",
            "Total Rooms\n",
            "Floor Count\n"
          ]
        }
      ]
    },
    {
      "cell_type": "code",
      "metadata": {
        "colab": {
          "base_uri": "https://localhost:8080/"
        },
        "id": "hSJ-fAfMm5ot",
        "outputId": "c20f840f-d5e0-4f65-a264-82b2fa196dc0"
      },
      "source": [
        "cat_df2 = df2.select_dtypes(include=['object'])\n",
        "num_df2 = df2.select_dtypes(exclude=['object'])\n",
        "\n",
        "def printColumnTypes(non_numeric_df, numeric_df):\n",
        "    '''separates non-numeric and numeric columns'''\n",
        "    print(\"Non-Numeric columns:\")\n",
        "    for col in non_numeric_df:\n",
        "        print(f\"{col}\")\n",
        "    print(\"\")\n",
        "    print(\"Numeric columns:\")\n",
        "    for col in numeric_df:\n",
        "        print(f\"{col}\")\n",
        "        \n",
        "printColumnTypes(cat_df2, num_df2)"
      ],
      "execution_count": 26,
      "outputs": [
        {
          "output_type": "stream",
          "name": "stdout",
          "text": [
            "Non-Numeric columns:\n",
            "Name\n",
            "Response rate\n",
            "Popularity\n",
            "\n",
            "Numeric columns:\n",
            "Room Score\n",
            "Service Score\n",
            "Food Score\n",
            "Location Score\n",
            "Overall Score\n"
          ]
        }
      ]
    },
    {
      "cell_type": "code",
      "metadata": {
        "colab": {
          "base_uri": "https://localhost:8080/"
        },
        "id": "pbXA0necmig1",
        "outputId": "0a73824e-a7d6-4244-8e02-ec896c891284"
      },
      "source": [
        "df2.isnull().sum()"
      ],
      "execution_count": 203,
      "outputs": [
        {
          "output_type": "execute_result",
          "data": {
            "text/plain": [
              "Name               0\n",
              "Response rate      1\n",
              "Popularity        83\n",
              "Room Score         3\n",
              "Service Score      2\n",
              "Food Score        37\n",
              "Location Score    17\n",
              "Overall Score      0\n",
              "dtype: int64"
            ]
          },
          "metadata": {},
          "execution_count": 203
        }
      ]
    },
    {
      "cell_type": "code",
      "metadata": {
        "colab": {
          "base_uri": "https://localhost:8080/"
        },
        "id": "1kPINro5Fh67",
        "outputId": "aa9e40ed-7c9f-418a-ab5a-150080acd578"
      },
      "source": [
        "df2.new=df2.dropna()"
      ],
      "execution_count": 204,
      "outputs": [
        {
          "output_type": "stream",
          "name": "stderr",
          "text": [
            "/usr/local/lib/python3.7/dist-packages/ipykernel_launcher.py:1: UserWarning: Pandas doesn't allow columns to be created via a new attribute name - see https://pandas.pydata.org/pandas-docs/stable/indexing.html#attribute-access\n",
            "  \"\"\"Entry point for launching an IPython kernel.\n"
          ]
        }
      ]
    },
    {
      "cell_type": "code",
      "metadata": {
        "colab": {
          "base_uri": "https://localhost:8080/",
          "height": 255
        },
        "id": "Am2tOVjxFzsp",
        "outputId": "54010fa8-ae08-4042-fc26-276aa15b7712"
      },
      "source": [
        "df2.new.head()"
      ],
      "execution_count": 230,
      "outputs": [
        {
          "output_type": "execute_result",
          "data": {
            "text/html": [
              "<div>\n",
              "<style scoped>\n",
              "    .dataframe tbody tr th:only-of-type {\n",
              "        vertical-align: middle;\n",
              "    }\n",
              "\n",
              "    .dataframe tbody tr th {\n",
              "        vertical-align: top;\n",
              "    }\n",
              "\n",
              "    .dataframe thead th {\n",
              "        text-align: right;\n",
              "    }\n",
              "</style>\n",
              "<table border=\"1\" class=\"dataframe\">\n",
              "  <thead>\n",
              "    <tr style=\"text-align: right;\">\n",
              "      <th></th>\n",
              "      <th>Name</th>\n",
              "      <th>Response rate</th>\n",
              "      <th>Popularity</th>\n",
              "      <th>Room Score</th>\n",
              "      <th>Service Score</th>\n",
              "      <th>Food Score</th>\n",
              "      <th>Location Score</th>\n",
              "      <th>Overall Score</th>\n",
              "    </tr>\n",
              "  </thead>\n",
              "  <tbody>\n",
              "    <tr>\n",
              "      <th>1</th>\n",
              "      <td>AC Hotel Denver Downtown</td>\n",
              "      <td>94%</td>\n",
              "      <td>90%</td>\n",
              "      <td>65.0</td>\n",
              "      <td>85.0</td>\n",
              "      <td>72.0</td>\n",
              "      <td>83.0</td>\n",
              "      <td>87</td>\n",
              "    </tr>\n",
              "    <tr>\n",
              "      <th>4</th>\n",
              "      <td>Aloft Denver Downtown</td>\n",
              "      <td>97%</td>\n",
              "      <td>72%</td>\n",
              "      <td>61.0</td>\n",
              "      <td>92.0</td>\n",
              "      <td>61.0</td>\n",
              "      <td>91.0</td>\n",
              "      <td>83</td>\n",
              "    </tr>\n",
              "    <tr>\n",
              "      <th>5</th>\n",
              "      <td>Aloft Denver International Airport</td>\n",
              "      <td>7%</td>\n",
              "      <td>58%</td>\n",
              "      <td>55.0</td>\n",
              "      <td>76.0</td>\n",
              "      <td>56.0</td>\n",
              "      <td>88.0</td>\n",
              "      <td>79</td>\n",
              "    </tr>\n",
              "    <tr>\n",
              "      <th>6</th>\n",
              "      <td>Americas Best Value Inn Lakewood South Tacoma</td>\n",
              "      <td>46%</td>\n",
              "      <td>10%</td>\n",
              "      <td>24.0</td>\n",
              "      <td>60.0</td>\n",
              "      <td>37.0</td>\n",
              "      <td>56.0</td>\n",
              "      <td>55</td>\n",
              "    </tr>\n",
              "    <tr>\n",
              "      <th>7</th>\n",
              "      <td>Americas Best Value Inn-Westminster/Huntington...</td>\n",
              "      <td>61%</td>\n",
              "      <td>56%</td>\n",
              "      <td>59.0</td>\n",
              "      <td>87.0</td>\n",
              "      <td>38.0</td>\n",
              "      <td>94.0</td>\n",
              "      <td>80</td>\n",
              "    </tr>\n",
              "  </tbody>\n",
              "</table>\n",
              "</div>"
            ],
            "text/plain": [
              "                                                Name  ... Overall Score\n",
              "1                           AC Hotel Denver Downtown  ...            87\n",
              "4                              Aloft Denver Downtown  ...            83\n",
              "5                 Aloft Denver International Airport  ...            79\n",
              "6      Americas Best Value Inn Lakewood South Tacoma  ...            55\n",
              "7  Americas Best Value Inn-Westminster/Huntington...  ...            80\n",
              "\n",
              "[5 rows x 8 columns]"
            ]
          },
          "metadata": {},
          "execution_count": 230
        }
      ]
    },
    {
      "cell_type": "code",
      "metadata": {
        "colab": {
          "base_uri": "https://localhost:8080/"
        },
        "id": "n3w0rY2VmFVf",
        "outputId": "b636487a-7411-4d71-e571-d5e5b5d70e9d"
      },
      "source": [
        "dfmerg.isnull().sum()"
      ],
      "execution_count": 238,
      "outputs": [
        {
          "output_type": "execute_result",
          "data": {
            "text/plain": [
              "Hotel Name          0\n",
              "Brand Name          0\n",
              "City                0\n",
              "State               0\n",
              "Country             0\n",
              "Class Type          0\n",
              "Location Type       0\n",
              "Price Type          0\n",
              "Restaurant (Y/N)    0\n",
              "Conference (Y/N)    0\n",
              "Spa (Y/N)           0\n",
              "Total Rooms         0\n",
              "Floor Count         0\n",
              "Rate                0\n",
              "Food Score          0\n",
              "Location Score      0\n",
              "Name                0\n",
              "Overall Score       0\n",
              "Popularity          0\n",
              "Response rate       0\n",
              "Room Score          0\n",
              "Service Score       0\n",
              "dtype: int64"
            ]
          },
          "metadata": {},
          "execution_count": 238
        }
      ]
    },
    {
      "cell_type": "code",
      "metadata": {
        "id": "Gp3Wa2l204eh"
      },
      "source": [
        "diff_cols = df2.new.columns.difference(df.columns)"
      ],
      "execution_count": 207,
      "outputs": []
    },
    {
      "cell_type": "code",
      "metadata": {
        "id": "KtTatFyjMaMI"
      },
      "source": [
        "df3 = df2.new[diff_cols]"
      ],
      "execution_count": 208,
      "outputs": []
    },
    {
      "cell_type": "code",
      "metadata": {
        "id": "8AKibkSiQKTq"
      },
      "source": [
        "dfmerg = pd.merge(df,df3, left_index=True, right_index=True, how='inner')"
      ],
      "execution_count": 209,
      "outputs": []
    },
    {
      "cell_type": "code",
      "metadata": {
        "colab": {
          "base_uri": "https://localhost:8080/"
        },
        "id": "bplLiEkjQWV-",
        "outputId": "4c040e0c-08ad-44c2-a889-b68f4b55206b"
      },
      "source": [
        "print(df_merg)"
      ],
      "execution_count": 210,
      "outputs": [
        {
          "output_type": "stream",
          "name": "stdout",
          "text": [
            "                                     Hotel Name  ... Service Score\n",
            "1                                   A & D Motel  ...          85.0\n",
            "4                                 All Inn Motel  ...          92.0\n",
            "5                 aloft Hotel Broomfield Denver  ...          76.0\n",
            "6    aloft Hotel Denver Airport At Gateway Park  ...          60.0\n",
            "7          aloft Hotel Denver North Westminster  ...          87.0\n",
            "..                                          ...  ...           ...\n",
            "319                                  Star Motel  ...          67.0\n",
            "320                                    Stay Inn  ...          78.0\n",
            "321           Staybridge Suites Denver Downtown  ...          74.0\n",
            "328    Suburban Extended Stay Hotel Westminster  ...          81.0\n",
            "330                    Super 8 Denver Stapleton  ...          50.0\n",
            "\n",
            "[225 rows x 22 columns]\n"
          ]
        }
      ]
    },
    {
      "cell_type": "code",
      "metadata": {
        "colab": {
          "base_uri": "https://localhost:8080/",
          "height": 428
        },
        "id": "_kPSZYIC1wPF",
        "outputId": "f72dc7be-f5a6-45e2-e0c7-3da1bcfd7ad8"
      },
      "source": [
        "dfmerg.head()"
      ],
      "execution_count": 254,
      "outputs": [
        {
          "output_type": "execute_result",
          "data": {
            "text/html": [
              "<div>\n",
              "<style scoped>\n",
              "    .dataframe tbody tr th:only-of-type {\n",
              "        vertical-align: middle;\n",
              "    }\n",
              "\n",
              "    .dataframe tbody tr th {\n",
              "        vertical-align: top;\n",
              "    }\n",
              "\n",
              "    .dataframe thead th {\n",
              "        text-align: right;\n",
              "    }\n",
              "</style>\n",
              "<table border=\"1\" class=\"dataframe\">\n",
              "  <thead>\n",
              "    <tr style=\"text-align: right;\">\n",
              "      <th></th>\n",
              "      <th>Hotel Name</th>\n",
              "      <th>Brand Name</th>\n",
              "      <th>City</th>\n",
              "      <th>State</th>\n",
              "      <th>Country</th>\n",
              "      <th>Class Type</th>\n",
              "      <th>Location Type</th>\n",
              "      <th>Price Type</th>\n",
              "      <th>Restaurant (Y/N)</th>\n",
              "      <th>Conference (Y/N)</th>\n",
              "      <th>Spa (Y/N)</th>\n",
              "      <th>Total Rooms</th>\n",
              "      <th>Floor Count</th>\n",
              "      <th>Rate</th>\n",
              "      <th>Food Score</th>\n",
              "      <th>Location Score</th>\n",
              "      <th>Name</th>\n",
              "      <th>Overall Score</th>\n",
              "      <th>Popularity</th>\n",
              "      <th>Response rate</th>\n",
              "      <th>Room Score</th>\n",
              "      <th>Service Score</th>\n",
              "    </tr>\n",
              "  </thead>\n",
              "  <tbody>\n",
              "    <tr>\n",
              "      <th>1</th>\n",
              "      <td>A &amp; D Motel</td>\n",
              "      <td>Independent</td>\n",
              "      <td>Lakewood</td>\n",
              "      <td>CO</td>\n",
              "      <td>United States</td>\n",
              "      <td>Economy Class</td>\n",
              "      <td>Suburban</td>\n",
              "      <td>Budget</td>\n",
              "      <td>N</td>\n",
              "      <td>N</td>\n",
              "      <td>N</td>\n",
              "      <td>12</td>\n",
              "      <td>1</td>\n",
              "      <td>33.0</td>\n",
              "      <td>72.0</td>\n",
              "      <td>83.0</td>\n",
              "      <td>AC Hotel Denver Downtown</td>\n",
              "      <td>87</td>\n",
              "      <td>90.0</td>\n",
              "      <td>94%</td>\n",
              "      <td>65.0</td>\n",
              "      <td>85.0</td>\n",
              "    </tr>\n",
              "    <tr>\n",
              "      <th>4</th>\n",
              "      <td>All Inn Motel</td>\n",
              "      <td>Independent</td>\n",
              "      <td>Denver</td>\n",
              "      <td>CO</td>\n",
              "      <td>United States</td>\n",
              "      <td>Economy Class</td>\n",
              "      <td>Urban</td>\n",
              "      <td>Budget</td>\n",
              "      <td>N</td>\n",
              "      <td>N</td>\n",
              "      <td>N</td>\n",
              "      <td>54</td>\n",
              "      <td>4</td>\n",
              "      <td>27.0</td>\n",
              "      <td>61.0</td>\n",
              "      <td>91.0</td>\n",
              "      <td>Aloft Denver Downtown</td>\n",
              "      <td>83</td>\n",
              "      <td>72.0</td>\n",
              "      <td>97%</td>\n",
              "      <td>61.0</td>\n",
              "      <td>92.0</td>\n",
              "    </tr>\n",
              "    <tr>\n",
              "      <th>5</th>\n",
              "      <td>aloft Hotel Broomfield Denver</td>\n",
              "      <td>aloft Hotel</td>\n",
              "      <td>Broomfield</td>\n",
              "      <td>CO</td>\n",
              "      <td>United States</td>\n",
              "      <td>Upscale Class</td>\n",
              "      <td>Suburban</td>\n",
              "      <td>Midprice</td>\n",
              "      <td>N</td>\n",
              "      <td>N</td>\n",
              "      <td>N</td>\n",
              "      <td>139</td>\n",
              "      <td>4</td>\n",
              "      <td>146.0</td>\n",
              "      <td>56.0</td>\n",
              "      <td>88.0</td>\n",
              "      <td>Aloft Denver International Airport</td>\n",
              "      <td>79</td>\n",
              "      <td>58.0</td>\n",
              "      <td>7%</td>\n",
              "      <td>55.0</td>\n",
              "      <td>76.0</td>\n",
              "    </tr>\n",
              "    <tr>\n",
              "      <th>6</th>\n",
              "      <td>aloft Hotel Denver Airport At Gateway Park</td>\n",
              "      <td>aloft Hotel</td>\n",
              "      <td>Aurora</td>\n",
              "      <td>CO</td>\n",
              "      <td>United States</td>\n",
              "      <td>Upscale Class</td>\n",
              "      <td>Suburban</td>\n",
              "      <td>Midprice</td>\n",
              "      <td>N</td>\n",
              "      <td>N</td>\n",
              "      <td>N</td>\n",
              "      <td>144</td>\n",
              "      <td>5</td>\n",
              "      <td>66.0</td>\n",
              "      <td>37.0</td>\n",
              "      <td>56.0</td>\n",
              "      <td>Americas Best Value Inn Lakewood South Tacoma</td>\n",
              "      <td>55</td>\n",
              "      <td>10.0</td>\n",
              "      <td>46%</td>\n",
              "      <td>24.0</td>\n",
              "      <td>60.0</td>\n",
              "    </tr>\n",
              "    <tr>\n",
              "      <th>7</th>\n",
              "      <td>aloft Hotel Denver North Westminster</td>\n",
              "      <td>aloft Hotel</td>\n",
              "      <td>Westminster</td>\n",
              "      <td>CO</td>\n",
              "      <td>United States</td>\n",
              "      <td>Upscale Class</td>\n",
              "      <td>Suburban</td>\n",
              "      <td>Budget</td>\n",
              "      <td>Y</td>\n",
              "      <td>N</td>\n",
              "      <td>N</td>\n",
              "      <td>120</td>\n",
              "      <td>5</td>\n",
              "      <td>142.0</td>\n",
              "      <td>38.0</td>\n",
              "      <td>94.0</td>\n",
              "      <td>Americas Best Value Inn-Westminster/Huntington...</td>\n",
              "      <td>80</td>\n",
              "      <td>56.0</td>\n",
              "      <td>61%</td>\n",
              "      <td>59.0</td>\n",
              "      <td>87.0</td>\n",
              "    </tr>\n",
              "  </tbody>\n",
              "</table>\n",
              "</div>"
            ],
            "text/plain": [
              "                                   Hotel Name  ... Service Score\n",
              "1                                 A & D Motel  ...          85.0\n",
              "4                               All Inn Motel  ...          92.0\n",
              "5               aloft Hotel Broomfield Denver  ...          76.0\n",
              "6  aloft Hotel Denver Airport At Gateway Park  ...          60.0\n",
              "7        aloft Hotel Denver North Westminster  ...          87.0\n",
              "\n",
              "[5 rows x 22 columns]"
            ]
          },
          "metadata": {},
          "execution_count": 254
        }
      ]
    },
    {
      "cell_type": "code",
      "metadata": {
        "colab": {
          "base_uri": "https://localhost:8080/"
        },
        "id": "eTEXlGDGiZes",
        "outputId": "9720a0f3-5192-47fa-c223-01f9e39d810e"
      },
      "source": [
        "print(dfmerg.dtypes)"
      ],
      "execution_count": 253,
      "outputs": [
        {
          "output_type": "stream",
          "name": "stdout",
          "text": [
            "Hotel Name           object\n",
            "Brand Name           object\n",
            "City                 object\n",
            "State                object\n",
            "Country              object\n",
            "Class Type           object\n",
            "Location Type        object\n",
            "Price Type           object\n",
            "Restaurant (Y/N)     object\n",
            "Conference (Y/N)     object\n",
            "Spa (Y/N)            object\n",
            "Total Rooms           int64\n",
            "Floor Count           int64\n",
            "Rate                float64\n",
            "Food Score          float64\n",
            "Location Score      float64\n",
            "Name                 object\n",
            "Overall Score         int64\n",
            "Popularity          float64\n",
            "Response rate        object\n",
            "Room Score          float64\n",
            "Service Score       float64\n",
            "dtype: object\n"
          ]
        }
      ]
    },
    {
      "cell_type": "code",
      "metadata": {
        "id": "WUrCF-oOTnZy"
      },
      "source": [
        "from sklearn.linear_model import LinearRegression"
      ],
      "execution_count": 211,
      "outputs": []
    },
    {
      "cell_type": "code",
      "metadata": {
        "id": "R2ReV2laUzqM"
      },
      "source": [
        "x = dfmerg[[\"Overall Score\"]]\n",
        "y = dfmerg[[\"Location Score\"]]"
      ],
      "execution_count": 241,
      "outputs": []
    },
    {
      "cell_type": "code",
      "metadata": {
        "id": "ihFm4rmFaDEO"
      },
      "source": [
        "from sklearn.model_selection import train_test_split\n",
        "x_train, x_test, y_train, y_test = train_test_split(x, y, test_size=0.2, random_state=0)"
      ],
      "execution_count": 242,
      "outputs": []
    },
    {
      "cell_type": "code",
      "metadata": {
        "id": "22MJxJQ1Tohp"
      },
      "source": [
        "model1 = LinearRegression()"
      ],
      "execution_count": 243,
      "outputs": []
    },
    {
      "cell_type": "code",
      "metadata": {
        "colab": {
          "base_uri": "https://localhost:8080/"
        },
        "id": "w6aYls7kTvix",
        "outputId": "0514c945-654f-4e3e-b499-267a9042cdd8"
      },
      "source": [
        "model1.fit(x_train,y_train)"
      ],
      "execution_count": 244,
      "outputs": [
        {
          "output_type": "execute_result",
          "data": {
            "text/plain": [
              "LinearRegression()"
            ]
          },
          "metadata": {},
          "execution_count": 244
        }
      ]
    },
    {
      "cell_type": "code",
      "metadata": {
        "colab": {
          "base_uri": "https://localhost:8080/"
        },
        "id": "JEV6njEzaXR1",
        "outputId": "c7ef23e0-91f7-4ffa-8a6c-52475eceb9d6"
      },
      "source": [
        "print(model1.intercept_)\n",
        "print(model1.coef_)\n"
      ],
      "execution_count": 245,
      "outputs": [
        {
          "output_type": "stream",
          "name": "stdout",
          "text": [
            "[49.65518237]\n",
            "[[0.44845507]]\n"
          ]
        }
      ]
    },
    {
      "cell_type": "code",
      "metadata": {
        "colab": {
          "base_uri": "https://localhost:8080/"
        },
        "id": "azul6dNtciFh",
        "outputId": "ffd04716-e324-42f5-9ccd-848beab3b550"
      },
      "source": [
        "dfmerg['Overall Score'].corr(df_merg['Location Score'])"
      ],
      "execution_count": 246,
      "outputs": [
        {
          "output_type": "execute_result",
          "data": {
            "text/plain": [
              "0.48496336958255737"
            ]
          },
          "metadata": {},
          "execution_count": 246
        }
      ]
    },
    {
      "cell_type": "code",
      "metadata": {
        "id": "Icokcw9SpCgJ"
      },
      "source": [
        "dfmerg['Popularity'] = dfmerg.Popularity.str.replace('%', '').astype(float)"
      ],
      "execution_count": 247,
      "outputs": []
    },
    {
      "cell_type": "code",
      "metadata": {
        "id": "vt-83oLT3CHm"
      },
      "source": [
        "dfmerg['Rate'] = dfmerg.Rate.str.replace('$', '').astype(float)"
      ],
      "execution_count": 252,
      "outputs": []
    },
    {
      "cell_type": "code",
      "metadata": {
        "id": "NUuk3k5Qc95X"
      },
      "source": [
        "a = dfmerg[[\"Popularity\"]]\n",
        "b = dfmerg[[\"Rate\"]]"
      ],
      "execution_count": 255,
      "outputs": []
    },
    {
      "cell_type": "code",
      "metadata": {
        "id": "hhuYvaTUdj7-"
      },
      "source": [
        "a_train, a_test, b_train, b_test = train_test_split(a, b, test_size=0.3, random_state=0)"
      ],
      "execution_count": 256,
      "outputs": []
    },
    {
      "cell_type": "code",
      "metadata": {
        "id": "1MwD8hrtePE5"
      },
      "source": [
        "model2 = LinearRegression()"
      ],
      "execution_count": 257,
      "outputs": []
    },
    {
      "cell_type": "code",
      "metadata": {
        "colab": {
          "base_uri": "https://localhost:8080/"
        },
        "id": "KvMg7oAIdsWm",
        "outputId": "9bfb326e-dc17-4dc2-e478-53d7d09cd1b2"
      },
      "source": [
        "model2.fit(a_train,b_train)"
      ],
      "execution_count": 258,
      "outputs": [
        {
          "output_type": "execute_result",
          "data": {
            "text/plain": [
              "LinearRegression()"
            ]
          },
          "metadata": {},
          "execution_count": 258
        }
      ]
    },
    {
      "cell_type": "code",
      "metadata": {
        "colab": {
          "base_uri": "https://localhost:8080/"
        },
        "id": "lJdUplA63rKG",
        "outputId": "7b51e72c-0848-412a-b060-247995c3ec62"
      },
      "source": [
        "print(model2.intercept_)\n",
        "print(model2.coef_)"
      ],
      "execution_count": 259,
      "outputs": [
        {
          "output_type": "stream",
          "name": "stdout",
          "text": [
            "[106.11017349]\n",
            "[[0.06645262]]\n"
          ]
        }
      ]
    },
    {
      "cell_type": "code",
      "metadata": {
        "id": "HT4o7uNu4h0h"
      },
      "source": [
        "a = dfmerg[[\"Room Score\"]]\n",
        "b = dfmerg[[\"Overall Score\"]]"
      ],
      "execution_count": 272,
      "outputs": []
    },
    {
      "cell_type": "code",
      "metadata": {
        "id": "3bEHmi7T5O-W"
      },
      "source": [
        "a_train, a_test, b_train, b_test = train_test_split(a, b, test_size=0.3, random_state=0)"
      ],
      "execution_count": 273,
      "outputs": []
    },
    {
      "cell_type": "code",
      "metadata": {
        "id": "Ts30eiDE5P1U"
      },
      "source": [
        "model3 = LinearRegression()"
      ],
      "execution_count": 274,
      "outputs": []
    },
    {
      "cell_type": "code",
      "metadata": {
        "colab": {
          "base_uri": "https://localhost:8080/"
        },
        "id": "WxmnFSwY5Spk",
        "outputId": "a2c8cffc-27ac-4062-d285-47d3d5818910"
      },
      "source": [
        "model3.fit(a_train,b_train)"
      ],
      "execution_count": 275,
      "outputs": [
        {
          "output_type": "execute_result",
          "data": {
            "text/plain": [
              "LinearRegression()"
            ]
          },
          "metadata": {},
          "execution_count": 275
        }
      ]
    },
    {
      "cell_type": "code",
      "metadata": {
        "colab": {
          "base_uri": "https://localhost:8080/"
        },
        "id": "34IcnoCA5Vcq",
        "outputId": "d41d07af-4d26-468c-ce46-972c5057732b"
      },
      "source": [
        "print(model3.intercept_)\n",
        "print(model3.coef_)"
      ],
      "execution_count": 276,
      "outputs": [
        {
          "output_type": "stream",
          "name": "stdout",
          "text": [
            "[45.76814584]\n",
            "[[0.55111738]]\n"
          ]
        }
      ]
    },
    {
      "cell_type": "code",
      "metadata": {
        "colab": {
          "base_uri": "https://localhost:8080/"
        },
        "id": "Sb8xyb5y6bNO",
        "outputId": "da9d736a-716d-4a81-f96a-d0a33b004723"
      },
      "source": [
        "dfmerg['Overall Score'].corr(df_merg['Room Score'])"
      ],
      "execution_count": 277,
      "outputs": [
        {
          "output_type": "execute_result",
          "data": {
            "text/plain": [
              "0.8716417594327622"
            ]
          },
          "metadata": {},
          "execution_count": 277
        }
      ]
    },
    {
      "cell_type": "code",
      "metadata": {
        "id": "X8WFUkbO93Ae"
      },
      "source": [
        "a = dfmerg[[\"Service Score\"]]\n",
        "b = dfmerg[[\"Overall Score\"]]"
      ],
      "execution_count": 278,
      "outputs": []
    },
    {
      "cell_type": "code",
      "metadata": {
        "id": "TY7qS64k96fS"
      },
      "source": [
        "a_train, a_test, b_train, b_test = train_test_split(a, b, test_size=0.3, random_state=0)"
      ],
      "execution_count": 279,
      "outputs": []
    },
    {
      "cell_type": "code",
      "metadata": {
        "id": "lEvu3Qle97gX"
      },
      "source": [
        "model4 = LinearRegression()"
      ],
      "execution_count": 280,
      "outputs": []
    },
    {
      "cell_type": "code",
      "metadata": {
        "colab": {
          "base_uri": "https://localhost:8080/"
        },
        "id": "2Tjn4nxR9-Br",
        "outputId": "1869c11f-e82b-44ea-9938-3e57f46b68f3"
      },
      "source": [
        "model3.fit(a_train,b_train)"
      ],
      "execution_count": 281,
      "outputs": [
        {
          "output_type": "execute_result",
          "data": {
            "text/plain": [
              "LinearRegression()"
            ]
          },
          "metadata": {},
          "execution_count": 281
        }
      ]
    },
    {
      "cell_type": "code",
      "metadata": {
        "colab": {
          "base_uri": "https://localhost:8080/"
        },
        "id": "Jx6MNv5w-AbV",
        "outputId": "d701969f-f7f5-42a9-e540-bfdb3eeea323"
      },
      "source": [
        "dfmerg['Overall Score'].corr(df_merg['Service Score'])"
      ],
      "execution_count": 282,
      "outputs": [
        {
          "output_type": "execute_result",
          "data": {
            "text/plain": [
              "0.797980892400015"
            ]
          },
          "metadata": {},
          "execution_count": 282
        }
      ]
    },
    {
      "cell_type": "code",
      "metadata": {
        "id": "ijHpDKSt_fV6"
      },
      "source": [
        "import matplotlib.pyplot as plt\n",
        "%matplotlib inline"
      ],
      "execution_count": 314,
      "outputs": []
    },
    {
      "cell_type": "code",
      "metadata": {
        "id": "Dp_4I_T2NV0W"
      },
      "source": [
        "b_pred = model3.predict(a)"
      ],
      "execution_count": 322,
      "outputs": []
    },
    {
      "cell_type": "code",
      "metadata": {
        "colab": {
          "base_uri": "https://localhost:8080/",
          "height": 265
        },
        "id": "yJouO2LjAI_w",
        "outputId": "650b7581-a045-423c-dffc-90507459f06a"
      },
      "source": [
        "plt.scatter(a_train, b_train, color=\"black\")\n",
        "plt.plot(a, b_pred, color='red')\n",
        "plt.show()"
      ],
      "execution_count": 323,
      "outputs": [
        {
          "output_type": "display_data",
          "data": {
            "image/png": "[encoded data removed]",
            "text/plain": [
              "<Figure size 432x288 with 1 Axes>"
            ]
          },
          "metadata": {
            "needs_background": "light"
          }
        }
      ]
    },
    {
      "cell_type": "markdown",
      "metadata": {
        "id": "ZdCfUpZr5gXn"
      },
      "source": [
        "***Report: ***\n",
        "- The relationship when it comes to Hotel Overall Score and Location Score it seems there is a slight relationship between them given the correlation of around .5. \n",
        "- Room Score is important when it comes to propperty's Overall Score. Room score relationship with Overall Score is very important because it seems like they play hand in hand. \n",
        "- Another important feature when it comes to hotels is the Service Score. The Service Score and Overall Score has a fairly strong correlation of about .8. As the Service Score rises so does the Overall Score of the hotel. \n",
        "- One way to show your findings is presenting a linear regression graph I believe this shows clearly the relationship between two variables and how they correlate with one another. \n",
        "- In conlclusion, I believe the room and service are key factors in the overall performance of a property. When it comes to location is still important but not as important as some other factors. Some other variables I would look into is what services are offered and maybe depedning on that they are each could play different roles in the performace. Lastly, I would use other models in the future such as classification depending on Class Type or Price Tpye.  "
      ]
    }
  ]
}